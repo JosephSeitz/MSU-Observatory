{
 "cells": [
  {
   "cell_type": "code",
   "execution_count": null,
   "metadata": {},
   "outputs": [],
   "source": [
    "import magnitude as mg\n",
    "import matplotlib.pyplot as plt"
   ]
  },
  {
   "cell_type": "code",
   "execution_count": null,
   "metadata": {},
   "outputs": [],
   "source": [
    "mag = mg.MagnitudeCalculation()"
   ]
  },
  {
   "cell_type": "code",
   "execution_count": null,
   "metadata": {},
   "outputs": [],
   "source": [
    "mag.comp_stars()"
   ]
  },
  {
   "cell_type": "code",
   "execution_count": null,
   "metadata": {},
   "outputs": [],
   "source": [
    "mag.read_file()"
   ]
  },
  {
   "cell_type": "code",
   "execution_count": null,
   "metadata": {},
   "outputs": [],
   "source": [
    "if mag.numC == 1:\n",
    "    Tmag2, Terrmag2 = mag.calc_mag()\n",
    "if mag.numC == 2:\n",
    "    Tmag2, Terrmag2, Tmag3, Terrmag3 = mag.calc_mag()\n",
    "if mag.numC == 3:\n",
    "    Tmag2, Terrmag2, Tmag3, Terrmag3, Tmag4, Terrmag4 = mag.calc_mag()"
   ]
  },
  {
   "cell_type": "code",
   "execution_count": null,
   "metadata": {},
   "outputs": [],
   "source": [
    "fig = plt.figure(figsize=(12, 12))\n",
    "\n",
    "p1 = fig.add_subplot(221)\n",
    "p1.errorbar(mag.time, Tmag2, yerr=Terrmag2, marker='d', markersize =5, linestyle='')\n",
    "plt.xlabel('Time (JD-2400000)', fontsize=16)\n",
    "plt.ylabel('Target Mag (relative to C2)', fontsize=16)\n",
    "plt.gca().invert_yaxis()\n",
    "\n",
    "if mag.numC > 1:\n",
    "    p2 = fig.add_subplot(222)\n",
    "    p2.errorbar(mag.time, Tmag3, yerr=Terrmag3, marker='d', markersize =5, linestyle='')\n",
    "    plt.xlabel('Time (JD-2400000)', fontsize=16)\n",
    "    plt.ylabel('Target Mag (relative to C3)', fontsize=16)\n",
    "    plt.gca().invert_yaxis()\n",
    "\n",
    "if mag.numC > 2:\n",
    "    p3 = fig.add_subplot(223)\n",
    "    p3.errorbar(mag.time, Tmag4, yerr=Terrmag4, marker='d', markersize =5, linestyle='')\n",
    "    plt.xlabel('Time (JD-2400000)', fontsize=16)\n",
    "    plt.ylabel('Target Mag (relative to C4)', fontsize=16)\n",
    "    plt.gca().invert_yaxis()\n",
    "\n",
    "fig = plt.gcf()"
   ]
  },
  {
   "cell_type": "code",
   "execution_count": null,
   "metadata": {},
   "outputs": [],
   "source": [
    "print('# JD              Var_Mag     Var_eMag   Airmass')\n",
    "for ii in range(0, mag.time.size):\n",
    "    print('{0:13.5f}    {1:7.3f}    {2:7.3f}    {3:7.3f}'. format(mag.time[ii], Tmag2[ii], Terrmag2[ii], mag.airmass[ii]))"
   ]
  },
  {
   "cell_type": "code",
   "execution_count": null,
   "metadata": {},
   "outputs": [],
   "source": [
    "print('#TYPE=Extended') #Do not change\n",
    "print('#OBSCODE=CDJA') #Your unique ID. Change one time, then let it be.\n",
    "print('#SOFTWARE=Custom Python Script') #Do not change\n",
    "print('#DELIM=,') #Do not change\n",
    "print('#DATE=JD') #Do not change\n",
    "print('#OBSTYPE=CCD') #Do not change\n",
    "print('#NAME,DATE,MAG,MERR,FILT,TRANS,MTYPE,CNAME,CMAG,KNAME,KMAG,AMASS,GROUP,CHART,NOTES')\n",
    "for ii in range(0, mag.time.size):\n",
    "    print(mag.star_name,',','{0:13.5f},{1:6.3f},{2:5.3f}'.format(mag.time[ii], Tmag2[ii], Terrmag2[ii]),',',mag.filter,',',mag.trans,',',mag.mtype,',',mag.cname,',',mag.C2mag,',',mag.kname,',',mag.C3mag,',','{0:5.3f}'.format(mag.airmass[ii]),',',mag.group,',',mag.chart,',',mag.notes,sep='')\n"
   ]
  },
  {
   "cell_type": "markdown",
   "metadata": {},
   "source": [
    "If you are not color correcting, then you are done. Otherwise, run the following cells to run the color correction (note: color correction is currently only supported for V filter, and requires at least one observation in B)"
   ]
  },
  {
   "cell_type": "code",
   "execution_count": null,
   "metadata": {},
   "outputs": [],
   "source": [
    "magB = mg.MagnitudeCalculation()"
   ]
  },
  {
   "cell_type": "code",
   "execution_count": null,
   "metadata": {},
   "outputs": [],
   "source": [
    "magB.comp_stars()"
   ]
  },
  {
   "cell_type": "code",
   "execution_count": null,
   "metadata": {},
   "outputs": [],
   "source": [
    "magB.read_file()"
   ]
  },
  {
   "cell_type": "code",
   "execution_count": null,
   "metadata": {},
   "outputs": [],
   "source": [
    "if magB.numC == 1:\n",
    "    Bmag2, Berrmag2 = magB.calc_mag()\n",
    "if mag.numC == 2:\n",
    "    Bmag2, Berrmag2, Bmag3, Berrmag3 = magB.calc_mag()\n",
    "if mag.numC == 3:\n",
    "    Bmag2, Berrmag2, Bmag3, Berrmag3, Bmag4, Berrmag4 = magB.calc_mag()"
   ]
  },
  {
   "cell_type": "code",
   "execution_count": null,
   "metadata": {},
   "outputs": [],
   "source": [
    "#note: currently for this cell to run, 3 comp stars are needed\n",
    "#this will be changed as the magnitude.py file is updated\n",
    "#to handle color correction instead color correction being done\n",
    "#in the notebook\n",
    "\n",
    "cmagV = -2.5*np.log10(mag.C2counts/mag.C4counts)+mag.C4mag\n",
    "cmagB = -2.5*np.log10(magB.C2counts/magB.C4counts)+magB.C4mag"
   ]
  },
  {
   "cell_type": "code",
   "execution_count": null,
   "metadata": {},
   "outputs": [],
   "source": [
    "Vmag = mg.V_var(Tmag2, cmagV, Bmag2, cmagB, mag.C2mag)"
   ]
  },
  {
   "cell_type": "code",
   "execution_count": null,
   "metadata": {},
   "outputs": [],
   "source": [
    "fig = plt.figure(figsize=(12, 12))\n",
    "\n",
    "p1 = fig.add_subplot(221)\n",
    "p1.errorbar(mag.time, Tmag2, yerr=Terrmag2, marker='d', markersize =5, linestyle='')\n",
    "plt.xlabel('Time (JD-2400000)', fontsize=16)\n",
    "plt.ylabel('Magnitude, Uncorrected', fontsize=16)\n",
    "plt.gca().invert_yaxis()\n",
    "plt.grid()\n",
    "\n",
    "p2 = fig.add_subplot(222)\n",
    "p2.errorbar(mag.time, Vmag, yerr = Terrmag2, marker='d', markersize =5, linestyle='')\n",
    "plt.xlabel('Time (JD-2400000)', fontsize=16)\n",
    "plt.ylabel('Magnitude, Corrected', fontsize=16)\n",
    "plt.gca().invert_yaxis()\n",
    "plt.grid()"
   ]
  },
  {
   "cell_type": "code",
   "execution_count": null,
   "metadata": {},
   "outputs": [],
   "source": [
    "print('# JD              Var_Mag     Var_eMag   Airmass')\n",
    "for ii in range(0, mag.time.size):\n",
    "    print('{0:13.5f}    {1:7.3f}    {2:7.3f}    {3:7.3f}'. format(mag.time[ii], Vmag[ii], Terrmag2[ii], mag.airmass[ii]))"
   ]
  },
  {
   "cell_type": "code",
   "execution_count": null,
   "metadata": {},
   "outputs": [],
   "source": [
    "print('#TYPE=Extended') #Do not change\n",
    "print('#OBSCODE=CDJA') #Your unique ID. Change one time, then let it be.\n",
    "print('#SOFTWARE=Custom Python Script') #Do not change\n",
    "print('#DELIM=,') #Do not change\n",
    "print('#DATE=JD') #Do not change\n",
    "print('#OBSTYPE=CCD') #Do not change\n",
    "print('#NAME,DATE,MAG,MERR,FILT,TRANS,MTYPE,CNAME,CMAG,KNAME,KMAG,AMASS,GROUP,CHART,NOTES')\n",
    "for ii in range(0, mag.time.size):\n",
    "    print(mag.star_name,',','{0:13.5f},{1:6.3f},{2:5.3f}'.format(mag.time[ii], Vmag[ii], Terrmag2[ii]),',',mag.filter,',',mag.trans,',',mag.mtype,',',mag.cname,',',mag.C2mag,',',mag.kname,',',mag.C3mag,',','{0:5.3f}'.format(mag.airmass[ii]),',',mag.group,',',mag.chart,',',mag.notes,sep='')\n"
   ]
  }
 ],
 "metadata": {
  "kernelspec": {
   "display_name": "Python 3",
   "language": "python",
   "name": "python3"
  },
  "language_info": {
   "codemirror_mode": {
    "name": "ipython",
    "version": 3
   },
   "file_extension": ".py",
   "mimetype": "text/x-python",
   "name": "python",
   "nbconvert_exporter": "python",
   "pygments_lexer": "ipython3",
   "version": "3.6.4"
  }
 },
 "nbformat": 4,
 "nbformat_minor": 2
}
